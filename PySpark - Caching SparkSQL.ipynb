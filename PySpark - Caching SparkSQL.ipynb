{
 "cells": [
  {
   "cell_type": "code",
   "execution_count": 2,
   "id": "2fa13f23",
   "metadata": {},
   "outputs": [],
   "source": [
    "from pyspark.sql import SparkSession\n",
    "import getpass\n",
    "username = getpass.getuser()\n",
    "spark = SparkSession. \\\n",
    "    builder. \\\n",
    "    config(\"spark.sql.warehouse.dir\", f\"/user/{username}/warehouse\"). \\\n",
    "    enableHiveSupport(). \\\n",
    "    master('yarn'). \\\n",
    "    getOrCreate()"
   ]
  },
  {
   "cell_type": "code",
   "execution_count": 2,
   "id": "e4560ff5",
   "metadata": {},
   "outputs": [
    {
     "data": {
      "text/html": [
       "\n",
       "            <div>\n",
       "                <p><b>SparkSession - hive</b></p>\n",
       "                \n",
       "        <div>\n",
       "            <p><b>SparkContext</b></p>\n",
       "\n",
       "            <p><a href=\"http://g01.itversity.com:4040\">Spark UI</a></p>\n",
       "\n",
       "            <dl>\n",
       "              <dt>Version</dt>\n",
       "                <dd><code>v2.4.7</code></dd>\n",
       "              <dt>Master</dt>\n",
       "                <dd><code>yarn</code></dd>\n",
       "              <dt>AppName</dt>\n",
       "                <dd><code>pyspark-shell</code></dd>\n",
       "            </dl>\n",
       "        </div>\n",
       "        \n",
       "            </div>\n",
       "        "
      ],
      "text/plain": [
       "<pyspark.sql.session.SparkSession at 0x7eff7f4fd2b0>"
      ]
     },
     "execution_count": 2,
     "metadata": {},
     "output_type": "execute_result"
    }
   ],
   "source": [
    "spark"
   ]
  },
  {
   "cell_type": "code",
   "execution_count": 3,
   "id": "307bd4ec",
   "metadata": {},
   "outputs": [],
   "source": [
    "orders_schema = \"order_id long, order_date date, customer_id long, order_status string\""
   ]
  },
  {
   "cell_type": "code",
   "execution_count": 4,
   "id": "2de49fdd",
   "metadata": {},
   "outputs": [],
   "source": [
    "orders_df = spark.read \\\n",
    ".format(\"csv\") \\\n",
    ".schema(orders_schema) \\\n",
    ".load(\"/public/trendytech/orders/orders_1gb.csv\")"
   ]
  },
  {
   "cell_type": "code",
   "execution_count": 9,
   "id": "f7a09d1e",
   "metadata": {},
   "outputs": [
    {
     "data": {
      "text/html": [
       "<table border='1'>\n",
       "<tr><th></th></tr>\n",
       "</table>\n"
      ],
      "text/plain": [
       "++\n",
       "||\n",
       "++\n",
       "++"
      ]
     },
     "execution_count": 9,
     "metadata": {},
     "output_type": "execute_result"
    }
   ],
   "source": [
    "spark.sql(\"create database itv009589_cachingdemo_db\")"
   ]
  },
  {
   "cell_type": "code",
   "execution_count": 10,
   "id": "49dc2a49",
   "metadata": {},
   "outputs": [],
   "source": [
    "orders_df.write.format(\"csv\").saveAsTable(\"itv009589_cachingdemo_db.itv009589_orders1\")"
   ]
  },
  {
   "cell_type": "code",
   "execution_count": 5,
   "id": "dccdcb03",
   "metadata": {},
   "outputs": [
    {
     "name": "stdout",
     "output_type": "stream",
     "text": [
      "+--------------------+--------------------+-------+\n",
      "|            col_name|           data_type|comment|\n",
      "+--------------------+--------------------+-------+\n",
      "|            order_id|              bigint|   null|\n",
      "|          order_date|                date|   null|\n",
      "|         customer_id|              bigint|   null|\n",
      "|        order_status|              string|   null|\n",
      "|                    |                    |       |\n",
      "|# Detailed Table ...|                    |       |\n",
      "|            Database|itv009589_caching...|       |\n",
      "|               Table|   itv009589_orders1|       |\n",
      "|               Owner|           itv009538|       |\n",
      "|        Created Time|Mon Dec 04 23:54:...|       |\n",
      "|         Last Access|Wed Dec 31 19:00:...|       |\n",
      "|          Created By|         Spark 2.4.7|       |\n",
      "|                Type|             MANAGED|       |\n",
      "|            Provider|                 csv|       |\n",
      "|    Table Properties|[transient_lastDd...|       |\n",
      "|          Statistics|     840836625 bytes|       |\n",
      "|            Location|hdfs://m01.itvers...|       |\n",
      "|       Serde Library|org.apache.hadoop...|       |\n",
      "|         InputFormat|org.apache.hadoop...|       |\n",
      "|        OutputFormat|org.apache.hadoop...|       |\n",
      "+--------------------+--------------------+-------+\n",
      "only showing top 20 rows\n",
      "\n"
     ]
    }
   ],
   "source": [
    "spark.sql(\"describe extended itv009589_cachingdemo_db.itv009589_orders1\").show()"
   ]
  },
  {
   "cell_type": "code",
   "execution_count": 6,
   "id": "1c8932b3",
   "metadata": {},
   "outputs": [
    {
     "name": "stdout",
     "output_type": "stream",
     "text": [
      "+--------+\n",
      "|count(1)|\n",
      "+--------+\n",
      "|25831125|\n",
      "+--------+\n",
      "\n"
     ]
    }
   ],
   "source": [
    "spark.sql(\"select count(*) from itv009589_cachingdemo_db.itv009589_orders1\").show()"
   ]
  },
  {
   "cell_type": "code",
   "execution_count": 7,
   "id": "69fab642",
   "metadata": {},
   "outputs": [
    {
     "data": {
      "text/html": [
       "<table border='1'>\n",
       "<tr><th></th></tr>\n",
       "</table>\n"
      ],
      "text/plain": [
       "++\n",
       "||\n",
       "++\n",
       "++"
      ]
     },
     "execution_count": 7,
     "metadata": {},
     "output_type": "execute_result"
    }
   ],
   "source": [
    "spark.sql(\"cache table itv009589_cachingdemo_db.itv009589_orders1\")"
   ]
  },
  {
   "cell_type": "code",
   "execution_count": 8,
   "id": "9a92363c",
   "metadata": {},
   "outputs": [
    {
     "name": "stdout",
     "output_type": "stream",
     "text": [
      "+--------+\n",
      "|count(1)|\n",
      "+--------+\n",
      "|25831125|\n",
      "+--------+\n",
      "\n"
     ]
    }
   ],
   "source": [
    "spark.sql(\"select count(*) from itv009589_cachingdemo_db.itv009589_orders1\").show()"
   ]
  },
  {
   "cell_type": "code",
   "execution_count": 9,
   "id": "16173713",
   "metadata": {},
   "outputs": [
    {
     "name": "stdout",
     "output_type": "stream",
     "text": [
      "+---------------+\n",
      "|   order_status|\n",
      "+---------------+\n",
      "|PENDING_PAYMENT|\n",
      "|       COMPLETE|\n",
      "|        ON_HOLD|\n",
      "| PAYMENT_REVIEW|\n",
      "|     PROCESSING|\n",
      "|         CLOSED|\n",
      "|SUSPECTED_FRAUD|\n",
      "|        PENDING|\n",
      "|       CANCELED|\n",
      "+---------------+\n",
      "\n"
     ]
    }
   ],
   "source": [
    "spark.sql(\"select distinct(order_status) from itv009589_cachingdemo_db.itv009589_orders1\").show()"
   ]
  },
  {
   "cell_type": "code",
   "execution_count": 10,
   "id": "f1e414fc",
   "metadata": {},
   "outputs": [
    {
     "name": "stdout",
     "output_type": "stream",
     "text": [
      "+----------------------------+\n",
      "|count(DISTINCT order_status)|\n",
      "+----------------------------+\n",
      "|                           9|\n",
      "+----------------------------+\n",
      "\n"
     ]
    }
   ],
   "source": [
    "spark.sql(\"select count(distinct(order_status)) from itv009589_cachingdemo_db.itv009589_orders1\").show()"
   ]
  },
  {
   "cell_type": "code",
   "execution_count": 11,
   "id": "07bccd88",
   "metadata": {},
   "outputs": [
    {
     "data": {
      "text/html": [
       "<table border='1'>\n",
       "<tr><th></th></tr>\n",
       "</table>\n"
      ],
      "text/plain": [
       "++\n",
       "||\n",
       "++\n",
       "++"
      ]
     },
     "execution_count": 11,
     "metadata": {},
     "output_type": "execute_result"
    }
   ],
   "source": [
    "spark.sql(\"uncache table itv009589_cachingdemo_db.itv009589_orders1\")"
   ]
  },
  {
   "cell_type": "code",
   "execution_count": 12,
   "id": "86698043",
   "metadata": {},
   "outputs": [
    {
     "data": {
      "text/html": [
       "<table border='1'>\n",
       "<tr><th></th></tr>\n",
       "</table>\n"
      ],
      "text/plain": [
       "++\n",
       "||\n",
       "++\n",
       "++"
      ]
     },
     "execution_count": 12,
     "metadata": {},
     "output_type": "execute_result"
    }
   ],
   "source": [
    "spark.sql(\"cache lazy table itv009589_cachingdemo_db.itv009589_orders1\")"
   ]
  },
  {
   "cell_type": "code",
   "execution_count": 13,
   "id": "8b98bc1f",
   "metadata": {},
   "outputs": [
    {
     "name": "stdout",
     "output_type": "stream",
     "text": [
      "+----------------------------+\n",
      "|count(DISTINCT order_status)|\n",
      "+----------------------------+\n",
      "|                           9|\n",
      "+----------------------------+\n",
      "\n"
     ]
    }
   ],
   "source": [
    "spark.sql(\"select count(distinct(order_status)) from itv009589_cachingdemo_db.itv009589_orders1\").show()"
   ]
  },
  {
   "cell_type": "code",
   "execution_count": 14,
   "id": "103b9d68",
   "metadata": {},
   "outputs": [
    {
     "name": "stdout",
     "output_type": "stream",
     "text": [
      "+---------------+--------+\n",
      "|   order_status|count(1)|\n",
      "+---------------+--------+\n",
      "|PENDING_PAYMENT| 5636250|\n",
      "|       COMPLETE| 8587125|\n",
      "|        ON_HOLD| 1424250|\n",
      "| PAYMENT_REVIEW|  273375|\n",
      "|     PROCESSING| 3103125|\n",
      "|         CLOSED| 2833500|\n",
      "|SUSPECTED_FRAUD|  584250|\n",
      "|        PENDING| 2853750|\n",
      "|       CANCELED|  535500|\n",
      "+---------------+--------+\n",
      "\n"
     ]
    }
   ],
   "source": [
    "spark.sql(\"select order_status, count(*) from itv009589_cachingdemo_db.itv009589_orders1 group by order_status\").show()"
   ]
  },
  {
   "cell_type": "code",
   "execution_count": 15,
   "id": "3b503f5d",
   "metadata": {},
   "outputs": [
    {
     "data": {
      "text/html": [
       "<table border='1'>\n",
       "<tr><th></th></tr>\n",
       "</table>\n"
      ],
      "text/plain": [
       "++\n",
       "||\n",
       "++\n",
       "++"
      ]
     },
     "execution_count": 15,
     "metadata": {},
     "output_type": "execute_result"
    }
   ],
   "source": [
    "spark.sql(\"insert into itv009589_cachingdemo_db.itv009589_orders1 values(111111, '2023-05-29', 222222, 'BOOKED')\")"
   ]
  },
  {
   "cell_type": "code",
   "execution_count": 16,
   "id": "fcc068f7",
   "metadata": {},
   "outputs": [
    {
     "name": "stdout",
     "output_type": "stream",
     "text": [
      "+----------------------------+\n",
      "|count(DISTINCT order_status)|\n",
      "+----------------------------+\n",
      "|                          10|\n",
      "+----------------------------+\n",
      "\n"
     ]
    }
   ],
   "source": [
    "spark.sql(\"select count(distinct(order_status)) from itv009589_cachingdemo_db.itv009589_orders1\").show()"
   ]
  },
  {
   "cell_type": "code",
   "execution_count": 17,
   "id": "0c9b36bf",
   "metadata": {},
   "outputs": [
    {
     "data": {
      "text/html": [
       "<table border='1'>\n",
       "<tr><th></th></tr>\n",
       "</table>\n"
      ],
      "text/plain": [
       "++\n",
       "||\n",
       "++\n",
       "++"
      ]
     },
     "execution_count": 17,
     "metadata": {},
     "output_type": "execute_result"
    }
   ],
   "source": [
    "spark.sql(\"clear cache\")"
   ]
  },
  {
   "cell_type": "code",
   "execution_count": 3,
   "id": "74c9941a",
   "metadata": {},
   "outputs": [
    {
     "data": {
      "text/html": [
       "<table border='1'>\n",
       "<tr><th></th></tr>\n",
       "</table>\n"
      ],
      "text/plain": [
       "++\n",
       "||\n",
       "++\n",
       "++"
      ]
     },
     "execution_count": 3,
     "metadata": {},
     "output_type": "execute_result"
    }
   ],
   "source": [
    "spark.sql(\"cache table itv009589_cachingdemo_db.itv009589_orders1\")"
   ]
  },
  {
   "cell_type": "code",
   "execution_count": 18,
   "id": "1980bd55",
   "metadata": {},
   "outputs": [
    {
     "data": {
      "text/plain": [
       "'default'"
      ]
     },
     "execution_count": 18,
     "metadata": {},
     "output_type": "execute_result"
    }
   ],
   "source": [
    "spark.catalog.currentDatabase()"
   ]
  },
  {
   "cell_type": "code",
   "execution_count": 4,
   "id": "1a380cc7",
   "metadata": {},
   "outputs": [
    {
     "data": {
      "text/html": [
       "<table border='1'>\n",
       "<tr><th></th></tr>\n",
       "</table>\n"
      ],
      "text/plain": [
       "++\n",
       "||\n",
       "++\n",
       "++"
      ]
     },
     "execution_count": 4,
     "metadata": {},
     "output_type": "execute_result"
    }
   ],
   "source": [
    "spark.sql(\"use itv009589_cachingdemo_db\")"
   ]
  },
  {
   "cell_type": "code",
   "execution_count": 5,
   "id": "00d8cca9",
   "metadata": {},
   "outputs": [
    {
     "data": {
      "text/plain": [
       "True"
      ]
     },
     "execution_count": 5,
     "metadata": {},
     "output_type": "execute_result"
    }
   ],
   "source": [
    "spark.catalog.isCached(\"itv009589_cachingdemo_db.itv009589_orders1\")"
   ]
  },
  {
   "cell_type": "code",
   "execution_count": 6,
   "id": "de03ac71",
   "metadata": {},
   "outputs": [],
   "source": [
    "spark.catalog.clearCache()"
   ]
  },
  {
   "cell_type": "code",
   "execution_count": 10,
   "id": "a0c6a935",
   "metadata": {},
   "outputs": [
    {
     "data": {
      "text/html": [
       "<table border='1'>\n",
       "<tr><th></th></tr>\n",
       "</table>\n"
      ],
      "text/plain": [
       "++\n",
       "||\n",
       "++\n",
       "++"
      ]
     },
     "execution_count": 10,
     "metadata": {},
     "output_type": "execute_result"
    }
   ],
   "source": [
    "spark.sql(\"create database itv009538_caching_demo_ext\")"
   ]
  },
  {
   "cell_type": "code",
   "execution_count": 13,
   "id": "3efcbeb8",
   "metadata": {},
   "outputs": [
    {
     "data": {
      "text/html": [
       "<table border='1'>\n",
       "<tr><th></th></tr>\n",
       "</table>\n"
      ],
      "text/plain": [
       "++\n",
       "||\n",
       "++\n",
       "++"
      ]
     },
     "execution_count": 13,
     "metadata": {},
     "output_type": "execute_result"
    }
   ],
   "source": [
    "spark.sql(\"create table itv009538_caching_demo_ext.itv009538_orders_ext(order_id long, order_date string, customer_id long, order_status string) using csv location '/user/itv009538/orders/'\")"
   ]
  },
  {
   "cell_type": "code",
   "execution_count": null,
   "id": "8910fdd2",
   "metadata": {},
   "outputs": [],
   "source": []
  }
 ],
 "metadata": {
  "kernelspec": {
   "display_name": "Pyspark 2",
   "language": "python",
   "name": "pyspark2"
  },
  "language_info": {
   "codemirror_mode": {
    "name": "ipython",
    "version": 3
   },
   "file_extension": ".py",
   "mimetype": "text/x-python",
   "name": "python",
   "nbconvert_exporter": "python",
   "pygments_lexer": "ipython3",
   "version": "3.6.12"
  }
 },
 "nbformat": 4,
 "nbformat_minor": 5
}
